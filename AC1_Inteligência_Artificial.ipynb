{
  "nbformat": 4,
  "nbformat_minor": 0,
  "metadata": {
    "colab": {
      "provenance": [],
      "collapsed_sections": [
        "kdSGS4brHnAi",
        "joN9pvZJIfW5"
      ]
    },
    "kernelspec": {
      "display_name": "Python 3",
      "name": "python3"
    }
  },
  "cells": [
    {
      "cell_type": "markdown",
      "metadata": {
        "id": "Cs9E_R5yD48u"
      },
      "source": [
        "# **AC \\#1**: Inteligência Artificial\n",
        "Facens - Sorocaba\n",
        "\n",
        "Prof. Adson Nogueira Alves\n",
        "\n",
        "E-mail adson.alves@facens.br\n",
        "\n"
      ]
    },
    {
      "cell_type": "code",
      "metadata": {
        "id": "tFS9Oum_RJX9"
      },
      "source": [
        "# TODO: RA & Name\n",
        "print('xxxxx: ' + 'Aluno')"
      ],
      "execution_count": null,
      "outputs": []
    },
    {
      "cell_type": "markdown",
      "metadata": {
        "id": "IVGH2s7fD_03"
      },
      "source": [
        "## Objetivo: Prever as taxas de mortalidade por câncer para os condados dos EUA.\n",
        "\n",
        "Explore alternativas de **regressão linear** e desenvolva o melhor modelo possível para os problemas, evitando o overfitting. Em particular, preveja a **TARGET_deathRate** a partir de seus atributos."
      ]
    },
    {
      "cell_type": "markdown",
      "source": [
        "## Conjunto de Dados\n",
        "\n",
        "Esses dados foram agregados de várias fontes, incluindo o American Community Survey (census.gov), clinicaltrials.gov e cancer.gov.\n",
        "\n",
        "O conjunto de dados contém a taxa de mortalidade e os atributos de 3.047 condados.\n",
        "\n",
        "Informações do Conjunto de Dados: Você deve respeitar a seguinte divisão treino/teste: 2042 exemplos de treino e 305 exemplos de teste.\n",
        "\n",
        "Existem 33 atributos, conforme segue:\n",
        "\n",
        "Dicionário de Dados\n",
        "\n",
        "1: avgAnnCount: Número médio de casos reportados de câncer diagnosticados anualmente (a)\n",
        "\n",
        "2: avgDeathsPerYear: Número médio de mortes reportadas devido ao câncer (a)\n",
        "\n",
        "3: incidenceRate: Taxa média de diagnósticos de câncer per capita (100.000) (a)\n",
        "\n",
        "4: medianIncome: Renda média por condado (b)\n",
        "\n",
        "5: popEst2015: População do condado (b)\n",
        "\n",
        "6: povertyPercent: Percentual da população em situação de pobreza (b)\n",
        "\n",
        "7: studyPerCap: Número per capita de ensaios clínicos relacionados ao câncer por condado (a)\n",
        "\n",
        "8: binnedInc: Renda média per capita agrupada por decil (b)\n",
        "\n",
        "9: MedianAge: Idade média dos residentes do condado (b)\n",
        "\n",
        "10: MedianAgeMale: Idade média dos residentes masculinos do condado (b)\n",
        "\n",
        "11: MedianAgeFemale: Idade média dos residentes femininos do condado (b)\n",
        "\n",
        "12: Geography: Nome do condado (b)\n",
        "\n",
        "13: AvgHouseholdSize: Tamanho médio dos lares no condado (b)\n",
        "\n",
        "14: PercentMarried: Percentual de residentes do condado casados (b)\n",
        "\n",
        "15: PctNoHS18_24: Percentual de residentes do condado com idades entre 18-24 anos que atingiram o ensino médio ou menos (b)\n",
        "\n",
        "16: PctHS18_24: Percentual de residentes do condado com idades entre 18-24 anos que atingiram o diploma de ensino médio (b)\n",
        "\n",
        "17: PctSomeCol18_24: Percentual de residentes do condado com idades entre 18-24 anos que atingiram algum nível de educação universitária (b)\n",
        "\n",
        "18: PctBachDeg18_24: Percentual de residentes do condado com idades entre 18-24 anos que atingiram o diploma de bacharel (b)\n",
        "\n",
        "19: PctHS25_Over: Percentual de residentes do condado com idades acima de 25 anos que atingiram o diploma de ensino médio (b)\n",
        "\n",
        "20: PctBachDeg25_Over: Percentual de residentes do condado com idades acima de 25 anos que atingiram o diploma de bacharel (b)\n",
        "\n",
        "21: PctEmployed16_Over: Percentual de residentes do condado com idades acima de 16 anos empregados (b)\n",
        "\n",
        "22: PctUnemployed16_Over: Percentual de residentes do condado com idades acima de 16 anos desempregados (b)\n",
        "\n",
        "23: PctPrivateCoverage: Percentual de residentes do condado com cobertura de saúde privada (b)\n",
        "\n",
        "24: PctPrivateCoverageAlone: Percentual de residentes do condado com cobertura de saúde privada apenas (sem assistência pública) (b)\n",
        "\n",
        "25: PctEmpPrivCoverage: Percentual de residentes do condado com cobertura de saúde privada fornecida por empregador (b)\n",
        "\n",
        "26: PctPublicCoverage: Percentual de residentes do condado com cobertura de saúde pública (b)\n",
        "\n",
        "27: PctPubliceCoverageAlone: Percentual de residentes do condado com cobertura de saúde pública apenas (b)\n",
        "\n",
        "28: PctWhite: Percentual de residentes do condado que se identificam como brancos (b)\n",
        "\n",
        "29: PctBlack: Percentual de residentes do condado que se identificam como negros (b)\n",
        "\n",
        "30: PctAsian: Percentual de residentes do condado que se identificam como asiáticos (b)\n",
        "\n",
        "31: PctOtherRace: Percentual de residentes do condado que se identificam como pertencentes a outras etnias que não brancos, negros ou asiáticos (b)\n",
        "\n",
        "32: PctMarriedHouseholds: Percentual de lares casados (b)\n",
        "\n",
        "33: BirthRate: Número de nascimentos vivos relativo ao número de mulheres no condado (b)\n",
        "\n",
        "TARGET_deathRate: Variável dependente. Taxa média de mortalidade por câncer per capita (100.000) (a)\n",
        "\n",
        "(a): anos de 2010 a 2016\n",
        "\n",
        "(b): Estimativas do Censo de 2013\n",
        "\n",
        "Os dados estão disponíveis em:\n",
        "\n",
        "treino: https://docs.google.com/spreadsheets/d/1mglppL3qIhx5Osp2wsoENN3HPnGpzkcaFpw7i9nsTvQ/edit?usp=sharing\n",
        "\n",
        "teste: https://docs.google.com/spreadsheets/d/1AuNcBH2c7hDEE1WScZIcbiH16fTr66C19S29d5uGnfo/edit?usp=sharing"
      ],
      "metadata": {
        "id": "3-vucFoNa3Fc"
      }
    },
    {
      "cell_type": "markdown",
      "metadata": {
        "id": "5d495CmpCltx"
      },
      "source": [
        "## Atividades\n",
        "\n",
        "1. (5 pontos) Realize a Regressão Linear. Você deve implementar alguma solução e compará-la com o sklearn.linear_model.SGDRegressor (modelo linear ajustado minimizando uma perda empírica regularizada com SGD, http://scikit-learn.org).\n",
        "\n",
        "**Nota: Alguns fatores a considerar: Existem outliers? Há valores faltantes? Como você lidará com variáveis categóricas?**"
      ]
    },
    {
      "cell_type": "code",
      "source": [],
      "metadata": {
        "id": "64qT-FZbj_vn"
      },
      "execution_count": null,
      "outputs": []
    },
    {
      "cell_type": "markdown",
      "metadata": {
        "id": "zBNZQNImKQeo"
      },
      "source": [
        "## Conclusões Atividade 1\n",
        "\n",
        "Quais são as conclusões? (1-2 parágrafos)\n",
        "\n",
        "\n"
      ]
    },
    {
      "cell_type": "markdown",
      "source": [
        "*Coloque sua resposta aqui ...*"
      ],
      "metadata": {
        "id": "OvxjHZJFf_ok"
      }
    },
    {
      "cell_type": "markdown",
      "metadata": {
        "id": "ADxPBRhuK_Vq"
      },
      "source": [
        "2. (2 pontos) Utilize 3 diferentes taxas de aprendizado de Gradiente Descendente (GD) ao otimizar. Compare as soluções baseadas em GD com a Equação Normal. Quais são as conclusões?\n"
      ]
    },
    {
      "cell_type": "markdown",
      "metadata": {
        "id": "XrPl7jKgJPW6"
      },
      "source": [
        "3. (3 pontos) Às vezes, precisamos de uma função mais complexa para fazer boas previsões. Elabore e avalie um modelo de Regressão Linear Polinomial.\n"
      ]
    },
    {
      "cell_type": "markdown",
      "metadata": {
        "id": "BYuHHX8BNQEc"
      },
      "source": [
        "## Conclusões Atividades 2 e 3"
      ]
    },
    {
      "cell_type": "markdown",
      "metadata": {
        "id": "rBLKtosaLaCw"
      },
      "source": [
        "Quais são as conclusões? (1-2 parágrafos)\n"
      ]
    },
    {
      "cell_type": "markdown",
      "source": [
        "*Coloque sua resposta aqui ...*"
      ],
      "metadata": {
        "id": "VkLc_9UohqqC"
      }
    },
    {
      "cell_type": "markdown",
      "metadata": {
        "id": "OF8VNewLtU1X"
      },
      "source": [
        "## Resultados com o Conjunto de Dados de Teste\n"
      ]
    },
    {
      "cell_type": "code",
      "source": [
        "# seu codigo"
      ],
      "metadata": {
        "id": "SdyR35D6iOSX"
      },
      "execution_count": null,
      "outputs": []
    },
    {
      "cell_type": "code",
      "metadata": {
        "id": "yxsa1Y2muT6a"
      },
      "source": [
        "# Linear Model with SDGRegressor\n"
      ],
      "execution_count": null,
      "outputs": []
    },
    {
      "cell_type": "code",
      "metadata": {
        "id": "P4HF1P5juUFR"
      },
      "source": [
        "# Polynomial model with SDGRegressor\n"
      ],
      "execution_count": null,
      "outputs": []
    },
    {
      "cell_type": "markdown",
      "metadata": {
        "id": "kdSGS4brHnAi"
      },
      "source": [
        "## Prazo\n",
        "\n",
        "Terça-feira, 01 de abril, às 23h59.\n",
        "\n",
        "Política de penalização para envio atrasado: Não é encorajado o envio de sua tarefa após a data de vencimento. No entanto, caso você o faça, sua nota será penalizada da seguinte forma:\n",
        "\n",
        "02 de abril, 23h59: nota * 0,75\n",
        "03 de abril, 23h59: nota * 0,5\n",
        "04 de abril, 23h59: nota * 0,25\n",
        "Após: nota * 0\n"
      ]
    },
    {
      "cell_type": "markdown",
      "metadata": {
        "id": "joN9pvZJIfW5"
      },
      "source": [
        "## Envio\n",
        "\n",
        "Por e-mail adson.alves@facens.br, envie seu Notebook.\n",
        "\n",
        "Esta atividade é individual."
      ]
    }
  ]
}